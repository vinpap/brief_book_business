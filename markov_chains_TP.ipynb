{
 "cells": [
  {
   "cell_type": "markdown",
   "id": "a8f936a2",
   "metadata": {},
   "source": [
    "# Markov Chains "
   ]
  },
  {
   "cell_type": "code",
   "execution_count": 1,
   "id": "7d53e98f",
   "metadata": {},
   "outputs": [],
   "source": [
    "import numpy as np\n",
    "import matplotlib.pyplot as plt"
   ]
  },
  {
   "cell_type": "markdown",
   "id": "6153405b",
   "metadata": {},
   "source": [
    "💫 Imagine that your cat and yourself have a superpower: the power of teleportation 💫\n",
    "\n",
    "🐱 Your cat Emily is quite young and is discovering her superpower. \n",
    "\n",
    "She can use it only in three cities:\n",
    "- 🇫🇷 Paris\n",
    "- 🇬🇧 London\n",
    "- 🇩🇪 Berlin\n",
    "\n",
    "And she can teleport herself from one city to the other only once per day!\n",
    "\n",
    "😱 Since you've been focusing on the Data Science challenges, you've just realised that you don't know where she's gone.\n",
    "\n",
    "👉 However, based on some intuition, you \"know\" that:\n",
    "- from Paris, she will:\n",
    "    - stay in Paris tomorrow with probability 1/3\n",
    "    - move to London with probability 1/3\n",
    "    - move to Berlin with probability 1/3\n",
    "\n",
    "- from London, she will:\n",
    "    - move to Paris with probability 35%\n",
    "    - stay in London with probability 35%\n",
    "    - move to Berlin with probability 30%\n",
    "\n",
    "- from Berlin, she will:\n",
    "    - move to Paris with probability 15%\n",
    "    - move to London with probability 20%\n",
    "    - stay in Berlin tomorrow with probability 65%\n"
   ]
  },
  {
   "cell_type": "markdown",
   "id": "275a86b0",
   "metadata": {},
   "source": [
    "## 🐱 1) Modelling the cat's movement"
   ]
  },
  {
   "cell_type": "markdown",
   "id": "625d3651",
   "metadata": {},
   "source": [
    "### 1.1) Draft"
   ]
  },
  {
   "cell_type": "markdown",
   "id": "368a12a8",
   "metadata": {},
   "source": [
    "✍️ Take a pen and a piece of paper to visualise Emily's moves."
   ]
  },
  {
   "cell_type": "markdown",
   "id": "08910a56",
   "metadata": {},
   "source": [
    "<details>\n",
    "   <summary>👀 Visual representation of this Markov Chain ( do it yourself first !)</summary>\n",
    "\n",
    "\n",
    "</details>"
   ]
  },
  {
   "cell_type": "markdown",
   "id": "678e6588",
   "metadata": {},
   "source": [
    "### ✈️ 1.2) Transitions"
   ]
  },
  {
   "cell_type": "markdown",
   "id": "d0fdee13",
   "metadata": {},
   "source": [
    "We'll create for you the [`transition_matrix`](https://en.wikipedia.org/wiki/Stochastic_matrix) Q that represents these moves between `[\"paris\", \"london\", \"berlin\"]`\n",
    "\n",
    "\n",
    "If the probability of moving from `i` to `j` in one time step is $P(j|i) = P_{i,j}$, the transition matrix `Q` is given by using $P_{i,j}$ as the i-th row and j-th column element, e.g.,\n",
    "\n",
    "$${\\begin{bmatrix}P_{1,1}&P_{1,2}&\\dots &P_{1,j}&\\dots &P_{1,S}\\\\P_{2,1}&P_{2,2}&\\dots &P_{2,j}&\\dots &P_{2,S}\\\\\\vdots &\\vdots &\\ddots &\\vdots &\\ddots &\\vdots \\\\P_{i,1}&P_{i,2}&\\dots &P_{i,j}&\\dots &P_{i,S}\\\\\\vdots &\\vdots &\\ddots &\\vdots &\\ddots &\\vdots \\\\P_{S,1}&P_{S,2}&\\dots &P_{S,j}&\\dots &P_{S,S}\\\\\\end{bmatrix}}$$\n",
    "\n",
    "So for Emily, the transition matrix will be :\n",
    "\n",
    "$${\\begin{bmatrix}\n",
    "P_{Paris \\rightarrow Paris}&P_{Paris \\rightarrow London} &P_{Paris \\rightarrow Berlin}\\\\\n",
    "P_{London \\rightarrow Paris}&P_{London \\rightarrow London}&P_{London \\rightarrow Berlin}\\\\\n",
    "P_{Berlin \\rightarrow Paris}&P_{Berlin \\rightarrow London}&P_{Berlin \\rightarrow Berlin}\\\\\n",
    "\\end{bmatrix}}$$"
   ]
  },
  {
   "cell_type": "code",
   "execution_count": 2,
   "id": "29f67cfb",
   "metadata": {},
   "outputs": [
    {
     "name": "stdout",
     "output_type": "stream",
     "text": [
      "[[0.33333333 0.33333333 0.33333333]\n",
      " [0.35       0.35       0.3       ]\n",
      " [0.15       0.2        0.65      ]]\n"
     ]
    }
   ],
   "source": [
    "Q = np.array([[1/3, 1/3, 1/3],\n",
    "             [0.35, 0.35, 0.30],\n",
    "             [0.15, 0.20, 0.65]])\n",
    "print(Q)"
   ]
  },
  {
   "cell_type": "markdown",
   "id": "31b1c1ff",
   "metadata": {},
   "source": [
    "Also called **`stochastic matrixes`**, these matrixes have a remarkable property: Each line is a **`probability vector`**, its coefficients sum up to 1 = 100%"
   ]
  },
  {
   "cell_type": "markdown",
   "id": "eefd0b67",
   "metadata": {},
   "source": [
    "👉 Let's imagine Emily started in Paris **initially**  \n",
    "We'll create an initial_position array (1 row  ×  3 columns) storing those information"
   ]
  },
  {
   "cell_type": "code",
   "execution_count": 10,
   "id": "527bf97a",
   "metadata": {},
   "outputs": [],
   "source": [
    "#Complete"
   ]
  },
  {
   "cell_type": "markdown",
   "id": "1ad8e3d4",
   "metadata": {},
   "source": [
    "❓ What the probability for Emily to be in paris/london/berlin in next step? Try to compute it, using dot products between\n",
    "- some slices of `Q`\n",
    "- and `initial_position`"
   ]
  },
  {
   "cell_type": "code",
   "execution_count": null,
   "id": "b86a5af3",
   "metadata": {},
   "outputs": [],
   "source": []
  },
  {
   "cell_type": "markdown",
   "id": "9ef51b26",
   "metadata": {},
   "source": []
  },
  {
   "cell_type": "markdown",
   "id": "959e8672",
   "metadata": {},
   "source": [
    "ℹ️ Now, let's assume you don't know where your cat was last seen, but you have some initial guess: She's **initially**:\n",
    "- in Paris with a probability equal to 30%\n",
    "- in London with a probability equal to 40%\n",
    "- in Berlin with a probability equal to 30%\n",
    "\n",
    "❓ Create your (1,3) array of `initial_position`  "
   ]
  },
  {
   "cell_type": "code",
   "execution_count": null,
   "id": "8ee00210",
   "metadata": {
    "tags": []
   },
   "outputs": [],
   "source": []
  },
  {
   "cell_type": "markdown",
   "id": "b0c738bb",
   "metadata": {},
   "source": [
    "❓ Compute the $ (1,3) $ array of probabilities `day_1` of the cat being in each city on ***day 1*** with an elegant math formula ❓\n",
    "\n"
   ]
  },
  {
   "cell_type": "code",
   "execution_count": null,
   "id": "ea0ed3c5",
   "metadata": {
    "tags": []
   },
   "outputs": [],
   "source": []
  },
  {
   "cell_type": "markdown",
   "id": "ee3d0827",
   "metadata": {},
   "source": []
  },
  {
   "cell_type": "markdown",
   "id": "e126a3ba",
   "metadata": {},
   "source": [
    "❓ What is the probability that Emily will be in Paris on day 2 ? What about London and Berlin ❓"
   ]
  },
  {
   "cell_type": "code",
   "execution_count": null,
   "id": "cea3ecd4",
   "metadata": {
    "tags": []
   },
   "outputs": [],
   "source": []
  },
  {
   "cell_type": "markdown",
   "id": "80b7b228",
   "metadata": {},
   "source": [
    "### ⏳ 1.3) Where is the cat *n* days later ? "
   ]
  },
  {
   "cell_type": "markdown",
   "id": "1e3b6ed9",
   "metadata": {},
   "source": [
    "❓ Create a function `emily` which computes the probabilities of Emily being in Paris, Berlin and London after `n_days`❓\n",
    "\n",
    "* `Inputs` : `initial_position`, `transition_matrix` and `n_days`\n",
    "* `Output` : probabilities of each city"
   ]
  },
  {
   "cell_type": "code",
   "execution_count": 11,
   "id": "4f54c612",
   "metadata": {},
   "outputs": [],
   "source": [
    "def emily(initial_position, transition_matrix, n_days):\n",
    "    # COMPLETE\n",
    "    return \n",
    "    "
   ]
  },
  {
   "cell_type": "markdown",
   "id": "63b85fcc",
   "metadata": {},
   "source": [
    "❓ So, where will Emily be in 100 days ❓"
   ]
  },
  {
   "cell_type": "code",
   "execution_count": null,
   "id": "bb5e9011",
   "metadata": {
    "tags": []
   },
   "outputs": [],
   "source": []
  },
  {
   "cell_type": "code",
   "execution_count": null,
   "id": "c5c99913",
   "metadata": {
    "tags": []
   },
   "outputs": [],
   "source": []
  },
  {
   "cell_type": "markdown",
   "id": "90668a53",
   "metadata": {},
   "source": [
    "### 📈 1.4) Visualising the probabilities overtime"
   ]
  },
  {
   "cell_type": "markdown",
   "id": "22e91f5a",
   "metadata": {},
   "source": [
    "❓ Plot the probabilities of being in each city over time\n",
    "\n",
    "😉 This last question is non-guided !"
   ]
  },
  {
   "cell_type": "code",
   "execution_count": 12,
   "id": "9e623d54",
   "metadata": {},
   "outputs": [],
   "source": [
    "def emily_over_time(initial_position, transition_matrix, n_days):\n",
    "\n",
    "    paris = []\n",
    "    london = []\n",
    "    berlin = []\n",
    "\n",
    "    ## Computing the probabilities each day\n",
    "    #YOUR CODE\n",
    "\n",
    "    ## Visualing\n",
    "    #YOUR CODE\n",
    "    \n",
    " "
   ]
  },
  {
   "cell_type": "code",
   "execution_count": null,
   "id": "53a2adf6",
   "metadata": {
    "tags": []
   },
   "outputs": [],
   "source": []
  },
  {
   "cell_type": "markdown",
   "id": "bcc9a86b",
   "metadata": {},
   "source": [
    "## 🥡 2) Takeaways"
   ]
  },
  {
   "cell_type": "markdown",
   "id": "d21c4564",
   "metadata": {},
   "source": [
    "❤️ After `Emily in Paris`, we'll most likely have `Emily in Berlin` in the long run !\n",
    "\n",
    "❗️ ***Not all the Markov Chains converge to a stable state ❗️*** Think about a hamster who lives between two states 0 and 1 and moves from one to the other with probability 1 each day ! \n",
    "\n",
    "💡 Did you know? \n",
    "- Google computes the probability that from one page, you click on other pages ! \n",
    "- Its secret algorithm is based on Markov Chains (and of course advanced refinements which made the founders billionaires...!)\n",
    "- 📚 `Google Search Engine` : [Analytics Vidhya article - Google Page Rank and Markov Chains](https://medium.com/analytics-vidhya/google-page-rank-and-markov-chains-d65717b98f9c)\n"
   ]
  },
  {
   "cell_type": "markdown",
   "id": "0415a563",
   "metadata": {},
   "source": [
    "🏁 Congratulations !\n",
    "\n",
    "💾 Do not forget to `save`your notebook\n",
    "\n",
    "😁 No panic if Markov Chains are still not clear for you. This challenge was more like an introduction to this topic, however for Data Analyst and Junior Data Scientists or Dev IA , you won't need necessarily use it :) \n",
    "\n",
    "🥳 Consider that it was a good opportunity to manipulate tools from `Linear Algebra` such as `matrixes` and tools from `Probabilty Theory` such as `probability distributions` !"
   ]
  },
  {
   "cell_type": "code",
   "execution_count": null,
   "id": "5b6c0c49",
   "metadata": {},
   "outputs": [],
   "source": []
  },
  {
   "cell_type": "code",
   "execution_count": null,
   "id": "e4526fb0",
   "metadata": {},
   "outputs": [],
   "source": []
  }
 ],
 "metadata": {
  "kernelspec": {
   "display_name": "Python 3 (ipykernel)",
   "language": "python",
   "name": "python3"
  },
  "language_info": {
   "codemirror_mode": {
    "name": "ipython",
    "version": 3
   },
   "file_extension": ".py",
   "mimetype": "text/x-python",
   "name": "python",
   "nbconvert_exporter": "python",
   "pygments_lexer": "ipython3",
   "version": "3.10.6"
  },
  "vscode": {
   "interpreter": {
    "hash": "cf92aa13fedf815d5c8dd192b8d835913fde3e8bc926b2a0ad6cc74ef2ba3ca2"
   }
  }
 },
 "nbformat": 4,
 "nbformat_minor": 5
}
