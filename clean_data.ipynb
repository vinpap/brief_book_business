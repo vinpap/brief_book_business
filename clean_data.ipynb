{
 "cells": [
  {
   "cell_type": "markdown",
   "id": "45d5f06c",
   "metadata": {},
   "source": [
    "# Nettoyage des données"
   ]
  },
  {
   "cell_type": "code",
   "execution_count": 1,
   "id": "a1f926dc",
   "metadata": {},
   "outputs": [],
   "source": [
    "# Importation nécessaire\n",
    "import pandas as pd"
   ]
  },
  {
   "cell_type": "markdown",
   "id": "83a36703",
   "metadata": {},
   "source": [
    "### Pour commencer, affichons un résumé de chaque table :"
   ]
  },
  {
   "cell_type": "code",
   "execution_count": 2,
   "id": "826aafa4",
   "metadata": {},
   "outputs": [
    {
     "name": "stdout",
     "output_type": "stream",
     "text": [
      "clients.csv :\n",
      "<class 'pandas.core.frame.DataFrame'>\n",
      "RangeIndex: 8623 entries, 0 to 8622\n",
      "Data columns (total 3 columns):\n",
      " #   Column     Non-Null Count  Dtype \n",
      "---  ------     --------------  ----- \n",
      " 0   client_id  8623 non-null   object\n",
      " 1   sex        8623 non-null   object\n",
      " 2   birth      8623 non-null   int64 \n",
      "dtypes: int64(1), object(2)\n",
      "memory usage: 202.2+ KB\n",
      "None\n",
      "  client_id sex  birth\n",
      "0    c_4410   f   1967\n",
      "1    c_7839   f   1975\n",
      "2    c_1699   f   1984\n",
      "3    c_5961   f   1962\n",
      "4    c_5320   m   1943\n",
      "\n",
      "produits.csv :\n",
      "<class 'pandas.core.frame.DataFrame'>\n",
      "RangeIndex: 3287 entries, 0 to 3286\n",
      "Data columns (total 3 columns):\n",
      " #   Column   Non-Null Count  Dtype  \n",
      "---  ------   --------------  -----  \n",
      " 0   id_prod  3287 non-null   object \n",
      " 1   price    3287 non-null   float64\n",
      " 2   categ    3287 non-null   int64  \n",
      "dtypes: float64(1), int64(1), object(1)\n",
      "memory usage: 77.2+ KB\n",
      "None\n",
      "  id_prod  price  categ\n",
      "0  0_1421  19.99      0\n",
      "1  0_1368   5.13      0\n",
      "2   0_731  17.99      0\n",
      "3   1_587   4.99      1\n",
      "4  0_1507   3.99      0\n",
      "\n",
      "ventes.csv :\n",
      "<class 'pandas.core.frame.DataFrame'>\n",
      "RangeIndex: 337016 entries, 0 to 337015\n",
      "Data columns (total 4 columns):\n",
      " #   Column      Non-Null Count   Dtype \n",
      "---  ------      --------------   ----- \n",
      " 0   id_prod     337016 non-null  object\n",
      " 1   date        337016 non-null  object\n",
      " 2   session_id  337016 non-null  object\n",
      " 3   client_id   337016 non-null  object\n",
      "dtypes: object(4)\n",
      "memory usage: 10.3+ MB\n",
      "None\n",
      "  id_prod                        date session_id client_id\n",
      "0  0_1483  2021-04-10 18:37:28.723910    s_18746    c_4450\n",
      "1   2_226  2022-02-03 01:55:53.276402   s_159142     c_277\n",
      "2   1_374  2021-09-23 15:13:46.938559    s_94290    c_4270\n",
      "3  0_2186  2021-10-17 03:27:18.783634   s_105936    c_4597\n",
      "4  0_1351  2021-07-17 20:34:25.800563    s_63642    c_1242\n"
     ]
    }
   ],
   "source": [
    "clients = pd.read_csv(\"data/clients.csv\")\n",
    "products = pd.read_csv(\"data/produits.csv\")\n",
    "sales = pd.read_csv(\"data/ventes.csv\")\n",
    "\n",
    "print(\"clients.csv :\")\n",
    "print(clients.info())\n",
    "print(clients.head())\n",
    "print(\"\\nproduits.csv :\")\n",
    "print(products.info())\n",
    "print(products.head())\n",
    "print(\"\\nventes.csv :\")\n",
    "print(sales.info())\n",
    "print(sales.head())"
   ]
  },
  {
   "cell_type": "markdown",
   "id": "d8c7ab07",
   "metadata": {},
   "source": [
    "On constate tout d'abord qu'il n'y a pas de valeurs manquantes dans ces fichiers. Partant de là, nous allons faire deux choses : étudier chaque colonne individuellement à la recherche d'éventuelles valeurs aberrantes, et déterminer si les colonnes d'id (id produit, id client, etc..) pourront être utilisées pour fusionner ces trois tables en une seule. L'objectif final est d'obtenir une unique dataframe où chaque ligne représentera une vente, ce qui nous permettra par la suite d'étudier comment chaque donnée impacte les ventes.\n"
   ]
  },
  {
   "cell_type": "markdown",
   "id": "003e6bd0",
   "metadata": {},
   "source": [
    "### clients.csv :"
   ]
  },
  {
   "cell_type": "code",
   "execution_count": 3,
   "id": "f56af12b",
   "metadata": {},
   "outputs": [
    {
     "name": "stdout",
     "output_type": "stream",
     "text": [
      "False    8623\n",
      "Name: client_id, dtype: int64\n"
     ]
    }
   ],
   "source": [
    "# On commence par vérifier que chaque client n'apparaît \n",
    "# qu'une fois dans la colonne client_id\n",
    "\n",
    "# La fonction duplicated renvoit une liste de booléens qui\n",
    "# indique si un id est déjà apparu plus haut dans la colonne, \n",
    "# i.e. est un doublon (True si c'est le cas, False sinon)\n",
    "\n",
    "print(clients[\"client_id\"].duplicated().value_counts())"
   ]
  },
  {
   "cell_type": "markdown",
   "id": "0c07e309",
   "metadata": {},
   "source": [
    "Il n'y a donc pas de doublons dans la colonne client_id."
   ]
  },
  {
   "cell_type": "code",
   "execution_count": 4,
   "id": "5345e84e",
   "metadata": {},
   "outputs": [
    {
     "name": "stdout",
     "output_type": "stream",
     "text": [
      "f    4491\n",
      "m    4132\n",
      "Name: sex, dtype: int64\n"
     ]
    }
   ],
   "source": [
    "# On vérifie ensuite que la colonne sex ne contient que \n",
    "# les lettres m et f\n",
    "\n",
    "print(clients[\"sex\"].value_counts())"
   ]
  },
  {
   "cell_type": "markdown",
   "id": "c9b45b07",
   "metadata": {},
   "source": [
    "Là encore, les données sont cohérentes."
   ]
  },
  {
   "cell_type": "code",
   "execution_count": 5,
   "id": "26719ce1",
   "metadata": {},
   "outputs": [
    {
     "data": {
      "text/plain": [
       "<AxesSubplot:>"
      ]
     },
     "execution_count": 5,
     "metadata": {},
     "output_type": "execute_result"
    },
    {
     "data": {
      "image/png": "[encoded data removed]",
      "text/plain": [
       "<Figure size 432x288 with 1 Axes>"
      ]
     },
     "metadata": {
      "needs_background": "light"
     },
     "output_type": "display_data"
    }
   ],
   "source": [
    "# Enfin, on fait un boxplot sur la colonne birth pour \n",
    "# voir si elle contient des dates illogiques\n",
    "\n",
    "clients.boxplot(column=\"birth\")"
   ]
  },
  {
   "cell_type": "markdown",
   "id": "bcef6ca4",
   "metadata": {},
   "source": [
    "On remarque que le maximum se situe autour de 1930 et le maximum autour de 2005, ce qui là aussi semble cohérent."
   ]
  },
  {
   "cell_type": "markdown",
   "id": "834c5359",
   "metadata": {},
   "source": [
    "### produits.csv :"
   ]
  },
  {
   "cell_type": "code",
   "execution_count": 6,
   "id": "ca0facce",
   "metadata": {},
   "outputs": [
    {
     "name": "stdout",
     "output_type": "stream",
     "text": [
      "False    3287\n",
      "Name: id_prod, dtype: int64\n"
     ]
    }
   ],
   "source": [
    "# On vérifie qu chaque produit n'apparaît qu'une seule fois\n",
    "print(products[\"id_prod\"].duplicated().value_counts())"
   ]
  },
  {
   "cell_type": "markdown",
   "id": "3df2dda4",
   "metadata": {},
   "source": [
    "Il n'y a pas de doublons. On peut ensuite étudier la distribution des prix pour détecter d'éventuelles valeurs aberrantes :"
   ]
  },
  {
   "cell_type": "code",
   "execution_count": 7,
   "id": "ee5b360b",
   "metadata": {},
   "outputs": [
    {
     "name": "stdout",
     "output_type": "stream",
     "text": [
      "Prix minimum :  -1.0\n",
      "Prix maximum :  300.0\n"
     ]
    },
    {
     "data": {
      "image/png": "[encoded data removed]",
      "text/plain": [
       "<Figure size 432x288 with 1 Axes>"
      ]
     },
     "metadata": {
      "needs_background": "light"
     },
     "output_type": "display_data"
    }
   ],
   "source": [
    "products.boxplot(column=\"price\")\n",
    "print(\"Prix minimum : \", products[\"price\"].min())\n",
    "print(\"Prix maximum : \", products[\"price\"].max())"
   ]
  },
  {
   "cell_type": "markdown",
   "id": "857b02a1",
   "metadata": {},
   "source": [
    "On remarque que certains produits ont des prix extrêmes pouvant aller jusqu'à 300 (la devise dans laquelle les prix sont exprimés n'est pas indiquée). Bien que cela puisse paraître incohérent au premier abord, ce n'est pas très surprenant quand on sait que certains livres anciens ou de colections peuvent se vendre plusieurs centaines d'euros.\n",
    "En revanche, on constate également que certains produits ont des prix valant -1. On va donc afficher les lignes pour lesquelles c'est le cas :"
   ]
  },
  {
   "cell_type": "code",
   "execution_count": 8,
   "id": "f1053a2c",
   "metadata": {},
   "outputs": [
    {
     "name": "stdout",
     "output_type": "stream",
     "text": [
      "    id_prod  price  categ\n",
      "731     T_0   -1.0      0\n"
     ]
    }
   ],
   "source": [
    "print(products[products.price < 0])"
   ]
  },
  {
   "cell_type": "markdown",
   "id": "95b1b7be",
   "metadata": {},
   "source": [
    "Une seule ligne a un prix négatif : on peut donc la supprimer sans perte de données significative. On supprimera également au passage toutes les lignes contenant cet id produit dans la table sales.csv."
   ]
  },
  {
   "cell_type": "code",
   "execution_count": 9,
   "id": "4640b45b",
   "metadata": {},
   "outputs": [],
   "source": [
    "products.drop(731, axis=0, inplace=True)\n",
    "products.reset_index(drop=True, inplace=True)\n",
    "sales = sales[sales.id_prod != \"T_0\"]"
   ]
  },
  {
   "cell_type": "markdown",
   "id": "128ec4f1",
   "metadata": {},
   "source": [
    "Enfin, on va étudier les valeurs présentes dans la colonne categ :"
   ]
  },
  {
   "cell_type": "code",
   "execution_count": 10,
   "id": "f58cb39c",
   "metadata": {},
   "outputs": [
    {
     "name": "stdout",
     "output_type": "stream",
     "text": [
      "0    2308\n",
      "1     739\n",
      "2     239\n",
      "Name: categ, dtype: int64\n"
     ]
    },
    {
     "data": {
      "text/plain": [
       "<AxesSubplot:ylabel='Frequency'>"
      ]
     },
     "execution_count": 10,
     "metadata": {},
     "output_type": "execute_result"
    },
    {
     "data": {
      "image/png": "[encoded data removed]",
      "text/plain": [
       "<Figure size 432x288 with 1 Axes>"
      ]
     },
     "metadata": {
      "needs_background": "light"
     },
     "output_type": "display_data"
    }
   ],
   "source": [
    "print(products[\"categ\"].value_counts())\n",
    "products[\"categ\"].plot.hist(bins=5, xticks=[0, 1, 2])"
   ]
  },
  {
   "cell_type": "markdown",
   "id": "2c940086",
   "metadata": {},
   "source": [
    "On constate que les produits sont répartis en trois catégories (0, 1 et 2). Cependant, nous ne disposons d'aucune information nous permettant de comprendre à quoi correspondent ces catégories."
   ]
  },
  {
   "cell_type": "markdown",
   "id": "71c53b50",
   "metadata": {},
   "source": [
    "### ventes.csv :"
   ]
  },
  {
   "cell_type": "markdown",
   "id": "357b583a",
   "metadata": {},
   "source": [
    "Ici, on va simplement étudier le contenu de la colonne date pour vérifier qu'elle ne compte pas de valeurs aberrantes. Pour cela, on va se concentrer sur les quatre premiers caractères de la date, qui représentent l'année où a été réalisée la vente, et les afficher dans un histogramme."
   ]
  },
  {
   "cell_type": "code",
   "execution_count": 11,
   "id": "76cfef84",
   "metadata": {},
   "outputs": [
    {
     "name": "stdout",
     "output_type": "stream",
     "text": [
      "2021    277933\n",
      "2022     58883\n",
      "Name: date, dtype: int64\n"
     ]
    },
    {
     "data": {
      "text/plain": [
       "<AxesSubplot:ylabel='Frequency'>"
      ]
     },
     "execution_count": 11,
     "metadata": {},
     "output_type": "execute_result"
    },
    {
     "data": {
      "image/png": "[encoded data removed]",
      "text/plain": [
       "<Figure size 432x288 with 1 Axes>"
      ]
     },
     "metadata": {
      "needs_background": "light"
     },
     "output_type": "display_data"
    }
   ],
   "source": [
    "dates = sales[\"date\"]\n",
    "dates = dates.apply(lambda x: int(x[:4]))\n",
    "print(dates.value_counts())\n",
    "dates.plot.hist(bins=2, xticks=[2021, 2022])"
   ]
  },
  {
   "cell_type": "markdown",
   "id": "53c1c655",
   "metadata": {},
   "source": [
    "Toutes les dates de vente sont en 2021 ou en 2022, ce qui paraît cohérent."
   ]
  },
  {
   "cell_type": "markdown",
   "id": "5003d186",
   "metadata": {},
   "source": [
    "Nous allons maintenant pouvoir fusionner ces trois tables en une seule. Chaque ligne de la nouvelle table correspondra à une vente, à laquelle on ajoutera toutes les informations concernant le produit vendu et le client."
   ]
  },
  {
   "cell_type": "code",
   "execution_count": 12,
   "id": "79a07745",
   "metadata": {},
   "outputs": [
    {
     "name": "stdout",
     "output_type": "stream",
     "text": [
      "<class 'pandas.core.frame.DataFrame'>\n",
      "Int64Index: 336713 entries, 0 to 336712\n",
      "Data columns (total 8 columns):\n",
      " #   Column      Non-Null Count   Dtype  \n",
      "---  ------      --------------   -----  \n",
      " 0   id_prod     336713 non-null  object \n",
      " 1   date        336713 non-null  object \n",
      " 2   session_id  336713 non-null  object \n",
      " 3   client_id   336713 non-null  object \n",
      " 4   sex         336713 non-null  object \n",
      " 5   birth       336713 non-null  int64  \n",
      " 6   price       336713 non-null  float64\n",
      " 7   categ       336713 non-null  int64  \n",
      "dtypes: float64(1), int64(2), object(5)\n",
      "memory usage: 23.1+ MB\n",
      "None\n"
     ]
    }
   ],
   "source": [
    "sales_and_clients = pd.merge(sales, clients, on=\"client_id\")\n",
    "final_df = pd.merge(sales_and_clients, products, on=\"id_prod\")\n",
    "print(final_df.info())\n",
    "final_df.to_csv(\"data/merged_data.csv\")"
   ]
  },
  {
   "cell_type": "markdown",
   "id": "bcce65bf",
   "metadata": {},
   "source": [
    "Nous avons maintenant une unique dataframe prête à l'emploi qui contient toutes les informations qui nous intéressent !"
   ]
  },
  {
   "cell_type": "code",
   "execution_count": null,
   "id": "5f288f43",
   "metadata": {},
   "outputs": [],
   "source": []
  }
 ],
 "metadata": {
  "kernelspec": {
   "display_name": "Python 3 (ipykernel)",
   "language": "python",
   "name": "python3"
  },
  "language_info": {
   "codemirror_mode": {
    "name": "ipython",
    "version": 3
   },
   "file_extension": ".py",
   "mimetype": "text/x-python",
   "name": "python",
   "nbconvert_exporter": "python",
   "pygments_lexer": "ipython3",
   "version": "3.10.6"
  }
 },
 "nbformat": 4,
 "nbformat_minor": 5
}
